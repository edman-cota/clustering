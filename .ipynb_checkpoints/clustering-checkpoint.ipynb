{
 "cells": [
  {
   "cell_type": "markdown",
   "id": "ceede653-1973-4d0c-93a3-5f33c07e1a1d",
   "metadata": {},
   "source": [
    "# Proyecto clustering"
   ]
  },
  {
   "cell_type": "markdown",
   "id": "32e59fd2-0d37-4545-8388-8c058d16be05",
   "metadata": {},
   "source": [
    "## Análisis preliminar\n",
    "\n",
    "1. Columnas con valores nulos\n",
    "   - homePage tiene muchos valores nulos (5807), por lo que no es útil para el clustering.\n",
    "   - video tiene 486 valores nulos y no aporta a la agrupación.\n",
    "   - productionCompany, productionCompanyCountry, productionCountry, directors, actors y actorsPopularity tienen algunos valores nulos, pero pueden ser útiles tras limpieza.\n",
    "\n",
    "2. Variables irrelevantes para clustering\n",
    "   - id: es solo un identificador.\n",
    "   - homePage: no aporta al análisis.\n",
    "   - video: no es relavante para el clustering.\n",
    "   - originalTitle: son solo nombres.\n",
    "   - title: son solo nombre.\n",
    "   - originalLanguage: son solo nombre.\n",
    "   - releaseDate: como dato puntual no ayuda, pero se podría extraer el año para análisis.\n",
    "\n",
    "3. Variables útiles para clustering\n",
    "   - popularity\n",
    "   - budget\n",
    "   - revenue\n",
    "   - director\n",
    "   - runtime\n",
    "   - genres\n",
    "   - genresAmount\n",
    "   - productionCompany\n",
    "   - productionCoAmount\n",
    "   - productionCompanyCountry\n",
    "   - productionCountry\n",
    "   - productionCountriesAmount\n",
    "   - releaseDate\n",
    "   - voteCount\n",
    "   - voteAvg\n",
    "   - actors\n",
    "   - actorsPopularity\n",
    "   - actorsCharacter\n",
    "   - actorsAmount\n",
    "   - castWomenAmount\n",
    "   - castMenAmount\n",
    "\n",
    "   "
   ]
  },
  {
   "cell_type": "markdown",
   "id": "6b72f733-6d02-4d2e-b676-4493f8f6509d",
   "metadata": {},
   "source": [
    "1. Clustering\n",
    "\n",
    "    1.1 Haga el preprocesamiento del dataset, explique qué variables no aportan información a la\n",
    "        generación de grupos y por qué. Describa con qué variables calculará los grupos.\n",
    "\n",
    "       Variables irrelevantes para clustering:\n",
    "           - id: es solo un identificador\n",
    "           - title: es textual\n",
    "           - original_title: es textual\n",
    "           - homePage: es textual\n",
    "           - video: es textual\n",
    "           - actorsCharacter: es textual\n",
    "           - releaseDate: \n",
    "\n",
    "       Variables útiles para clustering:\n",
    "            - popularity"
   ]
  },
  {
   "cell_type": "code",
   "execution_count": null,
   "id": "dffc1513-b615-4fc1-9d5a-cfa73cb12123",
   "metadata": {},
   "outputs": [],
   "source": [
    "import pandas as pd\n",
    "import numpy as np\n",
    "\n",
    "df = pd.read_csv(\"movies.csv\", encoding=\"ISO-8859-1\")\n",
    "\n",
    "numerical_features = [\"budget\", \"revenue\", \"popularity\", \"voteCount\", \"voteAvg\", \"runtime\"]\n",
    "df_numerical = df[numerical_features].dropna()\n"
   ]
  },
  {
   "cell_type": "markdown",
   "id": "61bba064-a196-4765-a17e-39a294fc0920",
   "metadata": {},
   "source": [
    "### 1.2 Analice la tendencia al agrupamiento usando el estadístico de Hopkings y la VAT (Visual Assessment of cluster Tendency). Esta última hágala si es posible, teniendo en cuenta las dimensiones del conjunto de datos. Discuta sus resultados e impresiones."
   ]
  },
  {
   "cell_type": "code",
   "execution_count": null,
   "id": "65c63480-61b7-4b44-b97d-06cd092a9e42",
   "metadata": {},
   "outputs": [],
   "source": [
    "import pyclustertend \n",
    "import random\n",
    "import sklearn.preprocessing\n",
    "\n",
    "X = df_numerical\n",
    "\n",
    "random.seed(123)\n",
    "X_scale=sklearn.preprocessing.scale(X)\n",
    "\n",
    "pyclustertend.hopkins(X,len(X))\n"
   ]
  },
  {
   "cell_type": "markdown",
   "id": "bfd5b770-add5-4ca7-aa7f-5e3afc4ba6bc",
   "metadata": {},
   "source": [
    "#### Discución\n",
    "Como podemos observar el estadístico de hopkins nos da un resultado distinto de 0.5 por lo que si es factible hacer agrupamiento. Los podremos también comprobar usando el método gráfico. Haremos uso del mapa de valor \"Evaluación Visual de Tendencia\" o VAT."
   ]
  },
  {
   "cell_type": "code",
   "execution_count": null,
   "id": "b3f6a80e-03ab-4b18-bb78-886fb3ebdec2",
   "metadata": {},
   "outputs": [],
   "source": [
    "pyclustertend.vat(X_scale)"
   ]
  },
  {
   "cell_type": "markdown",
   "id": "c069c031-dddc-412b-9694-0eed269ef48c",
   "metadata": {},
   "source": [
    "### Determine cuál es el número de grupos a formar más adecuado para los datos que está trabajando. Haga una gráfica de codo y explique la razón de la elección de la cantidad de clústeres con la que trabajará"
   ]
  },
  {
   "cell_type": "code",
   "execution_count": null,
   "id": "12a28a2c-97fb-4964-93f2-8b79df86ae86",
   "metadata": {},
   "outputs": [],
   "source": [
    "from sklearn.cluster import KMeans\n",
    "import matplotlib.pyplot as plt\n",
    "\n",
    "X = df_numerical\n",
    "\n",
    "number_of_clusters = range(1, 11)\n",
    "\n",
    "wcss = []\n",
    "for i in number_of_clusters:\n",
    "    kmeans = KMeans(n_clusters=i, random_state=42)\n",
    "    kmeans.fit(X)\n",
    "    wcss.append(kmeans.inertia_)\n",
    "\n",
    "plt.plot(number_of_clusters, wcss, marker='o')\n",
    "plt.title('Método del Codo')\n",
    "plt.xlabel('Número de clusters')\n",
    "plt.ylabel('WCSS')\n",
    "plt.show()"
   ]
  },
  {
   "cell_type": "markdown",
   "id": "7cc0e7e0-d0d9-4714-b0a3-9c68049f1923",
   "metadata": {},
   "source": [
    "#### Discución\n",
    "Usamos la gráfica de codo para determinar el número óptimo de clusters en un análisis de K-means. Ya que sabemos que el punto donde cambia la pendiente es el número ideal de clusters, en nuestro caso podemos observar que la inercia baja drásticamente al principio a 2, 3, y 4 muy pronunciadamente, entonces podemos decir con seguridad que el número óptimo de custers que usaremos para trabajar es 4."
   ]
  }
 ],
 "metadata": {
  "kernelspec": {
   "display_name": "Python 3 (ipykernel)",
   "language": "python",
   "name": "python3"
  },
  "language_info": {
   "codemirror_mode": {
    "name": "ipython",
    "version": 3
   },
   "file_extension": ".py",
   "mimetype": "text/x-python",
   "name": "python",
   "nbconvert_exporter": "python",
   "pygments_lexer": "ipython3",
   "version": "3.10.11"
  }
 },
 "nbformat": 4,
 "nbformat_minor": 5
}
