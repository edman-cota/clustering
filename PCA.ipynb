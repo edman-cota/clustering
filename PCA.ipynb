{
 "cells": [
  {
   "cell_type": "markdown",
   "metadata": {},
   "source": [
    "## 1. Análisis de componentes Principales\n",
    "\n",
    "### 3.1. Estudie si es posible hacer transformaciones en las variables categóricas para incluirlas en el PCA, ¿valdrá la pena?\n",
    "\n",
    "Transformaciones comunes para variables categóricas:\n",
    "1.Codificación One-Hot (dummies):\n",
    "   - Convierte cada categoría de una variable en una columna separada con valores binarios (0 o 1).\n",
    "   - Ejemplo: Si tienes una variable \"Color\" con categorías \"Rojo\", \"Verde\" y \"Azul\", se crearán tres columnas: Color_Rojo, Color_Verde, Color_Azul.\n",
    "   - Esto puede aumentar significativamente el número de características, lo cual podría dificultar la interpretación si el número de categorías es muy grande.\n",
    "\n",
    "2.Codificación de etiquetas (Label Encoding):\n",
    "   - Asigna un número único a cada categoría.\n",
    "   - Ejemplo: Si \"Rojo\" = 1, \"Verde\" = 2, \"Azul\" = 3, la variable se convierte en una variable numérica.\n",
    "   - Aunque esta es una opción más compacta, puede implicar que el modelo pueda interpretar las categorías como ordinales, \n",
    "     lo cual no es apropiado si no hay un orden natural entre las categorías.\n",
    "3.Codificación Binaria:\n",
    "   - Convierte las categorías a su representación binaria, lo cual puede ser útil si el número de categorías es grande y se desea mantener la información en un espacio más compacto.\n",
    "\n",
    "¿Vale la pena hacer estas transformaciones?\n",
    "   - Si las variables categóricas tienen un impacto significativo en la variabilidad de los datos, transformarlas puede proporcionar una representación más rica y útil para el PCA."
   ]
  },
  {
   "cell_type": "code",
   "execution_count": 2,
   "metadata": {},
   "outputs": [
    {
     "ename": "ModuleNotFoundError",
     "evalue": "No module named 'pandas'",
     "output_type": "error",
     "traceback": [
      "\u001b[1;31m---------------------------------------------------------------------------\u001b[0m",
      "\u001b[1;31mModuleNotFoundError\u001b[0m                       Traceback (most recent call last)",
      "Cell \u001b[1;32mIn[2], line 1\u001b[0m\n\u001b[1;32m----> 1\u001b[0m \u001b[38;5;28;01mimport\u001b[39;00m\u001b[38;5;250m \u001b[39m\u001b[38;5;21;01mpandas\u001b[39;00m\u001b[38;5;250m \u001b[39m\u001b[38;5;28;01mas\u001b[39;00m\u001b[38;5;250m \u001b[39m\u001b[38;5;21;01mpd\u001b[39;00m\n\u001b[0;32m      3\u001b[0m \u001b[38;5;66;03m# Cargar tus datos\u001b[39;00m\n\u001b[0;32m      4\u001b[0m df \u001b[38;5;241m=\u001b[39m pd\u001b[38;5;241m.\u001b[39mread_csv(\u001b[38;5;124m'\u001b[39m\u001b[38;5;124mmovies.csv\u001b[39m\u001b[38;5;124m'\u001b[39m)\n",
      "\u001b[1;31mModuleNotFoundError\u001b[0m: No module named 'pandas'"
     ]
    }
   ],
   "source": [
    "import pandas as pd\n",
    "\n",
    "# Cargar tus datos\n",
    "df = pd.read_csv('movies.csv')\n",
    "\n",
    "# Codificación One-Hot\n",
    "df_encoded = pd.get_dummies(df, drop_first=True)  # Elimina una categoría para evitar multicolinealidad\n",
    "\n",
    "# Mostrar las primeras filas después de la codificación\n",
    "print(df_encoded.head())\n"
   ]
  },
  {
   "cell_type": "markdown",
   "metadata": {},
   "source": [
    "### 3.2. Estudie si es conveniente hacer un Análisis de Componentes Principales. Recuerde que puede usar el índice KMO y el test de esfericidad de Bartlett.\n",
    "\n",
    "El PCA es útil cuando se busca reducir la dimensionalidad sin perder una cantidad significativa de información. Para evaluar si es conveniente realizar PCA, se deben utilizar dos pruebas: el índice KMO (Kaiser-Meyer-Olkin) y el test de esfericidad de Bartlett.\n",
    "\n",
    "\n",
    "1.Prueba de Esfericidad de Bartlett:\n",
    "   - Se utiliza para verificar si las variables están correlacionadas lo suficiente como para realizar un análisis factorial (PCA).\n",
    "   - Hipótesis nula: La matriz de correlación es una matriz identidad (lo que indica que no hay correlación significativa).\n",
    "   - Si el valor p de la prueba es bajo (generalmente < 0.05), se puede proceder con PCA porque las variables están correlacionadas de manera significativa.\n",
    "\n",
    "2.Índice KMO (Kaiser-Meyer-Olkin):\n",
    "   - Mide la adecuación de la muestra para el análisis factorial.\n",
    "   - El valor KMO varía entre 0 y 1, siendo:\n",
    "        - Valor KMO cercano a 1 indica que los datos son adecuados para PCA.\n",
    "        - Valor KMO menor que 0.5 indica que no es recomendable realizar PCA.\n",
    "\n"
   ]
  },
  {
   "cell_type": "code",
   "execution_count": null,
   "metadata": {},
   "outputs": [],
   "source": [
    "from scipy.stats import chi2\n",
    "import numpy as np\n",
    "\n",
    "def bartlett_test(df):\n",
    "    correlation_matrix = df.corr()\n",
    "    n = len(df)  # Número de observaciones\n",
    "    p = df.shape[1]  # Número de variables\n",
    "    \n",
    "    # Calcular el estadístico de Bartlett\n",
    "    t_squared = (n - 1 - (2 * p + 5) / 6) * np.log(np.linalg.det(correlation_matrix))\n",
    "    bartlett_stat = (n - 1 - (2 * p + 5) / 6) * np.log(np.linalg.det(correlation_matrix))\n",
    "    \n",
    "    # Grados de libertad\n",
    "    df_bartlett = (p * (p - 1)) / 2\n",
    "    p_value = 1 - chi2.cdf(bartlett_stat, df_bartlett)\n",
    "    \n",
    "    return bartlett_stat, p_value\n",
    "\n",
    "# Ejecutar la prueba de Bartlett\n",
    "bartlett_stat, p_value = bartlett_test(df_encoded)\n",
    "print(f'Estadístico de Bartlett: {bartlett_stat}')\n",
    "print(f'Valor p de Bartlett: {p_value}')\n"
   ]
  }
 ],
 "metadata": {
  "kernelspec": {
   "display_name": "Python 3",
   "language": "python",
   "name": "python3"
  },
  "language_info": {
   "codemirror_mode": {
    "name": "ipython",
    "version": 3
   },
   "file_extension": ".py",
   "mimetype": "text/x-python",
   "name": "python",
   "nbconvert_exporter": "python",
   "pygments_lexer": "ipython3",
   "version": "3.13.0"
  }
 },
 "nbformat": 4,
 "nbformat_minor": 2
}
