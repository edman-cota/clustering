{
 "cells": [
  {
   "cell_type": "markdown",
   "metadata": {
    "id": "WT8B-_-K-ukG"
   },
   "source": [
    "## 1. Análisis de componentes Principales\n",
    "\n",
    "### 3.1. Estudie si es posible hacer transformaciones en las variables categóricas para incluirlas en el PCA, ¿valdrá la pena?\n",
    "\n",
    "Transformaciones comunes para variables categóricas:\n",
    "1.Codificación One-Hot (dummies):\n",
    "   - Convierte cada categoría de una variable en una columna separada con valores binarios (0 o 1).\n",
    "   - Ejemplo: Si tienes una variable \"Color\" con categorías \"Rojo\", \"Verde\" y \"Azul\", se crearán tres columnas: Color_Rojo, Color_Verde, Color_Azul.\n",
    "   - Esto puede aumentar significativamente el número de características, lo cual podría dificultar la interpretación si el número de categorías es muy grande.\n",
    "\n",
    "2.Codificación de etiquetas (Label Encoding):\n",
    "   - Asigna un número único a cada categoría.\n",
    "   - Ejemplo: Si \"Rojo\" = 1, \"Verde\" = 2, \"Azul\" = 3, la variable se convierte en una variable numérica.\n",
    "   - Aunque esta es una opción más compacta, puede implicar que el modelo pueda interpretar las categorías como ordinales,\n",
    "     lo cual no es apropiado si no hay un orden natural entre las categorías.\n",
    "3.Codificación Binaria:\n",
    "   - Convierte las categorías a su representación binaria, lo cual puede ser útil si el número de categorías es grande y se desea mantener la información en un espacio más compacto.\n",
    "\n",
    "¿Vale la pena hacer estas transformaciones?\n",
    "   - Si las variables categóricas tienen un impacto significativo en la variabilidad de los datos, transformarlas puede proporcionar una representación más rica y útil para el PCA."
   ]
  },
  {
   "cell_type": "code",
   "execution_count": 17,
   "metadata": {
    "colab": {
     "base_uri": "https://localhost:8080/"
    },
    "id": "5MJkeTbH-ukI",
    "outputId": "48965ae7-a3cc-445e-90ad-bcb8b8b99abb"
   },
   "outputs": [
    {
     "name": "stdout",
     "output_type": "stream",
     "text": [
      "Codificación detectada: ISO-8859-1\n",
      "Archivo cargado exitosamente con la codificación detectada.\n",
      "                                                                                                                                                                                                                            Tom Holland|Ben Daniels|Bill Milner|Alice Lowe|Danny Webb|Lee Ross|Silas Carson|Kirsty Dillon\"  \\\n",
      "210577 61000000 Mystery|Thriller|Drama          http://www.gonegirlmovie.com/ Regency Enterprises|New Regency Pictures|Pacifi... US|US||US|US|US United States of America 369330363.0 149 FALSE David Fincher                Ben Affleck|Rosamund Pike|Neil Patrick Harris|...                                               \n",
      "210769 0        Family|Comedy|Mystery|Animation NaN                           Hanna-Barbera Productions                          US              United States of America 0.0         42  FALSE Jomac Noph                   Frank Welker|Stephanie D'Abruzzo|Grey DeLisle|...                                               \n",
      "210860 60000000 Comedy|Adventure                http://mortdecaithemovie.com/ Lionsgate|Mad Chance|Infinitum Nihil|OddLot Ent... US|US|US|US|CN  United States of America 30418560.0  106 FALSE David Koepp                  Johnny Depp|Gwyneth Paltrow|Ewan McGregor|Paul...                                               \n",
      "210908 0        Horror|Thriller|Comedy          NaN                           Modernciné                                         NaN             United States of America 0.0         89  FALSE Chris Sivertson|Lucky McKee  Caitlin Stasey|Sianoa Smit-McPhee|Brooke Butle...                                               \n",
      "211067 4000000  Horror|Thriller                 NaN                           Worldview Entertainment|Arcade Pictures            NaN             United States of America 9221.0      99  FALSE Ti West                      Joe Swanberg|AJ Bowen|Kentucker Audley|Gene Jo...                                               \n",
      "\n",
      "                                                                                                                                                                                                                            43.142|15.756|18.445|7.728|110.474|7.456|6.166|6.595|12.438|3.075|6.18|0.6  \\\n",
      "210577 61000000 Mystery|Thriller|Drama          http://www.gonegirlmovie.com/ Regency Enterprises|New Regency Pictures|Pacifi... US|US||US|US|US United States of America 369330363.0 149 FALSE David Fincher                17.359|32.247|13.297|5.711|23.011|10.168|9.761...                           \n",
      "210769 0        Family|Comedy|Mystery|Animation NaN                           Hanna-Barbera Productions                          US              United States of America 0.0         42  FALSE Jomac Noph                        12.693|0.89|8.532|24.593|15.711|11.493|7.305                           \n",
      "210860 60000000 Comedy|Adventure                http://mortdecaithemovie.com/ Lionsgate|Mad Chance|Infinitum Nihil|OddLot Ent... US|US|US|US|CN  United States of America 30418560.0  106 FALSE David Koepp                  36.009|8.709|18.592|16.88|12.799|15.541|1.22|4...                           \n",
      "210908 0        Horror|Thriller|Comedy          NaN                           Modernciné                                         NaN             United States of America 0.0         89  FALSE Chris Sivertson|Lucky McKee  15.923|6.218|6.555|0.988|2.621|2.401|1.425|1.8...                           \n",
      "211067 4000000  Horror|Thriller                 NaN                           Worldview Entertainment|Arcade Pictures            NaN             United States of America 9221.0      99  FALSE Ti West                      2.267|2.591|0.6|5.991|2.864|0.84|0.651|2.372|0...                           \n",
      "\n",
      "                                                                                                                                                                                                                            Ivan Locke|Katrina (voice)|Donal (voice)|Bethan (voice)|Eddie (voice)|Gareth (voice)|Sean (voice)|Sister Margaret (voice)|Cassidy (voice)|PC Davids (voice)|Dr. Gullu (voice)|Gareth's Wife (voice)  \\\n",
      "210577 61000000 Mystery|Thriller|Drama          http://www.gonegirlmovie.com/ Regency Enterprises|New Regency Pictures|Pacifi... US|US||US|US|US United States of America 369330363.0 149 FALSE David Fincher                Nick Dunne|Amy Elliott Dunne|Desi Collins|Tann...                                                                                                                                                    \n",
      "210769 0        Family|Comedy|Mystery|Animation NaN                           Hanna-Barbera Productions                          US              United States of America 0.0         42  FALSE Jomac Noph                   Fred Jones / Scooby-Doo (voice)|Velma Dinkley ...                                                                                                                                                    \n",
      "210860 60000000 Comedy|Adventure                http://mortdecaithemovie.com/ Lionsgate|Mad Chance|Infinitum Nihil|OddLot Ent... US|US|US|US|CN  United States of America 30418560.0  106 FALSE David Koepp                  Charles Mortdecai|Johanna Mortdecai|Inspektor ...                                                                                                                                                    \n",
      "210908 0        Horror|Thriller|Comedy          NaN                           Modernciné                                         NaN             United States of America 0.0         89  FALSE Chris Sivertson|Lucky McKee  Mäddy Killian|Leena Miller|Tracy Bingham|Hanna...                                                                                                                                                    \n",
      "211067 4000000  Horror|Thriller                 NaN                           Worldview Entertainment|Arcade Pictures            NaN             United States of America 9221.0      99  FALSE Ti West                      Jake|Sam|Patrick|Father|Caroline|Mindy|Guide #...                                                                                                                                                    \n",
      "\n",
      "                                                                                                                                                                                                                                                               Locke  \\\n",
      "210577 61000000 Mystery|Thriller|Drama          http://www.gonegirlmovie.com/ Regency Enterprises|New Regency Pictures|Pacifi... US|US||US|US|US United States of America 369330363.0 149 FALSE David Fincher                                              Gone Girl   \n",
      "210769 0        Family|Comedy|Mystery|Animation NaN                           Hanna-Barbera Productions                          US              United States of America 0.0         42  FALSE Jomac Noph                   Scooby-Doo! Adventures: The Mystery Map   \n",
      "210860 60000000 Comedy|Adventure                http://mortdecaithemovie.com/ Lionsgate|Mad Chance|Infinitum Nihil|OddLot Ent... US|US|US|US|CN  United States of America 30418560.0  106 FALSE David Koepp                                                Mortdecai   \n",
      "210908 0        Horror|Thriller|Comedy          NaN                           Modernciné                                         NaN             United States of America 0.0         89  FALSE Chris Sivertson|Lucky McKee                     All Cheerleaders Die   \n",
      "211067 4000000  Horror|Thriller                 NaN                           Worldview Entertainment|Arcade Pictures            NaN             United States of America 9221.0      99  FALSE Ti West                                                The Sacrament   \n",
      "\n",
      "                                                                                                                                                                                                                                                             Locke.1  \\\n",
      "210577 61000000 Mystery|Thriller|Drama          http://www.gonegirlmovie.com/ Regency Enterprises|New Regency Pictures|Pacifi... US|US||US|US|US United States of America 369330363.0 149 FALSE David Fincher                                              Gone Girl   \n",
      "210769 0        Family|Comedy|Mystery|Animation NaN                           Hanna-Barbera Productions                          US              United States of America 0.0         42  FALSE Jomac Noph                   Scooby-Doo! Adventures: The Mystery Map   \n",
      "210860 60000000 Comedy|Adventure                http://mortdecaithemovie.com/ Lionsgate|Mad Chance|Infinitum Nihil|OddLot Ent... US|US|US|US|CN  United States of America 30418560.0  106 FALSE David Koepp                                                Mortdecai   \n",
      "210908 0        Horror|Thriller|Comedy          NaN                           Modernciné                                         NaN             United States of America 0.0         89  FALSE Chris Sivertson|Lucky McKee                     All Cheerleaders Die   \n",
      "211067 4000000  Horror|Thriller                 NaN                           Worldview Entertainment|Arcade Pictures            NaN             United States of America 9221.0      99  FALSE Ti West                                                The Sacrament   \n",
      "\n",
      "                                                                                                                                                                                                                             en  \\\n",
      "210577 61000000 Mystery|Thriller|Drama          http://www.gonegirlmovie.com/ Regency Enterprises|New Regency Pictures|Pacifi... US|US||US|US|US United States of America 369330363.0 149 FALSE David Fincher                en   \n",
      "210769 0        Family|Comedy|Mystery|Animation NaN                           Hanna-Barbera Productions                          US              United States of America 0.0         42  FALSE Jomac Noph                   en   \n",
      "210860 60000000 Comedy|Adventure                http://mortdecaithemovie.com/ Lionsgate|Mad Chance|Infinitum Nihil|OddLot Ent... US|US|US|US|CN  United States of America 30418560.0  106 FALSE David Koepp                  en   \n",
      "210908 0        Horror|Thriller|Comedy          NaN                           Modernciné                                         NaN             United States of America 0.0         89  FALSE Chris Sivertson|Lucky McKee  en   \n",
      "211067 4000000  Horror|Thriller                 NaN                           Worldview Entertainment|Arcade Pictures            NaN             United States of America 9221.0      99  FALSE Ti West                      en   \n",
      "\n",
      "                                                                                                                                                                                                                             13.137  \\\n",
      "210577 61000000 Mystery|Thriller|Drama          http://www.gonegirlmovie.com/ Regency Enterprises|New Regency Pictures|Pacifi... US|US||US|US|US United States of America 369330363.0 149 FALSE David Fincher                70.716   \n",
      "210769 0        Family|Comedy|Mystery|Animation NaN                           Hanna-Barbera Productions                          US              United States of America 0.0         42  FALSE Jomac Noph                   20.976   \n",
      "210860 60000000 Comedy|Adventure                http://mortdecaithemovie.com/ Lionsgate|Mad Chance|Infinitum Nihil|OddLot Ent... US|US|US|US|CN  United States of America 30418560.0  106 FALSE David Koepp                  24.894   \n",
      "210908 0        Horror|Thriller|Comedy          NaN                           Modernciné                                         NaN             United States of America 0.0         89  FALSE Chris Sivertson|Lucky McKee  11.152   \n",
      "211067 4000000  Horror|Thriller                 NaN                           Worldview Entertainment|Arcade Pictures            NaN             United States of America 9221.0      99  FALSE Ti West                       9.587   \n",
      "\n",
      "                                                                                                                                                                                                                             2014-04-10  \\\n",
      "210577 61000000 Mystery|Thriller|Drama          http://www.gonegirlmovie.com/ Regency Enterprises|New Regency Pictures|Pacifi... US|US||US|US|US United States of America 369330363.0 149 FALSE David Fincher                2014-10-01   \n",
      "210769 0        Family|Comedy|Mystery|Animation NaN                           Hanna-Barbera Productions                          US              United States of America 0.0         42  FALSE Jomac Noph                   2013-07-22   \n",
      "210860 60000000 Comedy|Adventure                http://mortdecaithemovie.com/ Lionsgate|Mad Chance|Infinitum Nihil|OddLot Ent... US|US|US|US|CN  United States of America 30418560.0  106 FALSE David Koepp                  2015-01-21   \n",
      "210908 0        Horror|Thriller|Comedy          NaN                           Modernciné                                         NaN             United States of America 0.0         89  FALSE Chris Sivertson|Lucky McKee  2013-10-31   \n",
      "211067 4000000  Horror|Thriller                 NaN                           Worldview Entertainment|Arcade Pictures            NaN             United States of America 9221.0      99  FALSE Ti West                      2013-09-02   \n",
      "\n",
      "                                                                                                                                                                                                                             6.9  \\\n",
      "210577 61000000 Mystery|Thriller|Drama          http://www.gonegirlmovie.com/ Regency Enterprises|New Regency Pictures|Pacifi... US|US||US|US|US United States of America 369330363.0 149 FALSE David Fincher                7.9   \n",
      "210769 0        Family|Comedy|Mystery|Animation NaN                           Hanna-Barbera Productions                          US              United States of America 0.0         42  FALSE Jomac Noph                   8.8   \n",
      "210860 60000000 Comedy|Adventure                http://mortdecaithemovie.com/ Lionsgate|Mad Chance|Infinitum Nihil|OddLot Ent... US|US|US|US|CN  United States of America 30418560.0  106 FALSE David Koepp                  5.5   \n",
      "210908 0        Horror|Thriller|Comedy          NaN                           Modernciné                                         NaN             United States of America 0.0         89  FALSE Chris Sivertson|Lucky McKee  5.2   \n",
      "211067 4000000  Horror|Thriller                 NaN                           Worldview Entertainment|Arcade Pictures            NaN             United States of America 9221.0      99  FALSE Ti West                      5.8   \n",
      "\n",
      "                                                                                                                                                                                                                                2146  \\\n",
      "210577 61000000 Mystery|Thriller|Drama          http://www.gonegirlmovie.com/ Regency Enterprises|New Regency Pictures|Pacifi... US|US||US|US|US United States of America 369330363.0 149 FALSE David Fincher                15303.0   \n",
      "210769 0        Family|Comedy|Mystery|Animation NaN                           Hanna-Barbera Productions                          US              United States of America 0.0         42  FALSE Jomac Noph                      61.0   \n",
      "210860 60000000 Comedy|Adventure                http://mortdecaithemovie.com/ Lionsgate|Mad Chance|Infinitum Nihil|OddLot Ent... US|US|US|US|CN  United States of America 30418560.0  106 FALSE David Koepp                   2274.0   \n",
      "210908 0        Horror|Thriller|Comedy          NaN                           Modernciné                                         NaN             United States of America 0.0         89  FALSE Chris Sivertson|Lucky McKee    324.0   \n",
      "211067 4000000  Horror|Thriller                 NaN                           Worldview Entertainment|Arcade Pictures            NaN             United States of America 9221.0      99  FALSE Ti West                        317.0   \n",
      "\n",
      "                                                                                                                                                                                                                               2  \\\n",
      "210577 61000000 Mystery|Thriller|Drama          http://www.gonegirlmovie.com/ Regency Enterprises|New Regency Pictures|Pacifi... US|US||US|US|US United States of America 369330363.0 149 FALSE David Fincher                3.0   \n",
      "210769 0        Family|Comedy|Mystery|Animation NaN                           Hanna-Barbera Productions                          US              United States of America 0.0         42  FALSE Jomac Noph                   4.0   \n",
      "210860 60000000 Comedy|Adventure                http://mortdecaithemovie.com/ Lionsgate|Mad Chance|Infinitum Nihil|OddLot Ent... US|US|US|US|CN  United States of America 30418560.0  106 FALSE David Koepp                  2.0   \n",
      "210908 0        Horror|Thriller|Comedy          NaN                           Modernciné                                         NaN             United States of America 0.0         89  FALSE Chris Sivertson|Lucky McKee  3.0   \n",
      "211067 4000000  Horror|Thriller                 NaN                           Worldview Entertainment|Arcade Pictures            NaN             United States of America 9221.0      99  FALSE Ti West                      2.0   \n",
      "\n",
      "                                                                                                                                                                                                                             2.1  \\\n",
      "210577 61000000 Mystery|Thriller|Drama          http://www.gonegirlmovie.com/ Regency Enterprises|New Regency Pictures|Pacifi... US|US||US|US|US United States of America 369330363.0 149 FALSE David Fincher                6.0   \n",
      "210769 0        Family|Comedy|Mystery|Animation NaN                           Hanna-Barbera Productions                          US              United States of America 0.0         42  FALSE Jomac Noph                   1.0   \n",
      "210860 60000000 Comedy|Adventure                http://mortdecaithemovie.com/ Lionsgate|Mad Chance|Infinitum Nihil|OddLot Ent... US|US|US|US|CN  United States of America 30418560.0  106 FALSE David Koepp                  5.0   \n",
      "210908 0        Horror|Thriller|Comedy          NaN                           Modernciné                                         NaN             United States of America 0.0         89  FALSE Chris Sivertson|Lucky McKee  1.0   \n",
      "211067 4000000  Horror|Thriller                 NaN                           Worldview Entertainment|Arcade Pictures            NaN             United States of America 9221.0      99  FALSE Ti West                      2.0   \n",
      "\n",
      "                                                                                                                                                                                                                             2.2  \\\n",
      "210577 61000000 Mystery|Thriller|Drama          http://www.gonegirlmovie.com/ Regency Enterprises|New Regency Pictures|Pacifi... US|US||US|US|US United States of America 369330363.0 149 FALSE David Fincher                1.0   \n",
      "210769 0        Family|Comedy|Mystery|Animation NaN                           Hanna-Barbera Productions                          US              United States of America 0.0         42  FALSE Jomac Noph                   1.0   \n",
      "210860 60000000 Comedy|Adventure                http://mortdecaithemovie.com/ Lionsgate|Mad Chance|Infinitum Nihil|OddLot Ent... US|US|US|US|CN  United States of America 30418560.0  106 FALSE David Koepp                  1.0   \n",
      "210908 0        Horror|Thriller|Comedy          NaN                           Modernciné                                         NaN             United States of America 0.0         89  FALSE Chris Sivertson|Lucky McKee  1.0   \n",
      "211067 4000000  Horror|Thriller                 NaN                           Worldview Entertainment|Arcade Pictures            NaN             United States of America 9221.0      99  FALSE Ti West                      1.0   \n",
      "\n",
      "                                                                                                                                                                                                                               12  \\\n",
      "210577 61000000 Mystery|Thriller|Drama          http://www.gonegirlmovie.com/ Regency Enterprises|New Regency Pictures|Pacifi... US|US||US|US|US United States of America 369330363.0 149 FALSE David Fincher                74.0   \n",
      "210769 0        Family|Comedy|Mystery|Animation NaN                           Hanna-Barbera Productions                          US              United States of America 0.0         42  FALSE Jomac Noph                    7.0   \n",
      "210860 60000000 Comedy|Adventure                http://mortdecaithemovie.com/ Lionsgate|Mad Chance|Infinitum Nihil|OddLot Ent... US|US|US|US|CN  United States of America 30418560.0  106 FALSE David Koepp                  19.0   \n",
      "210908 0        Horror|Thriller|Comedy          NaN                           Modernciné                                         NaN             United States of America 0.0         89  FALSE Chris Sivertson|Lucky McKee  15.0   \n",
      "211067 4000000  Horror|Thriller                 NaN                           Worldview Entertainment|Arcade Pictures            NaN             United States of America 9221.0      99  FALSE Ti West                      23.0   \n",
      "\n",
      "                                                                                                                                                                                                                              3  \\\n",
      "210577 61000000 Mystery|Thriller|Drama          http://www.gonegirlmovie.com/ Regency Enterprises|New Regency Pictures|Pacifi... US|US||US|US|US United States of America 369330363.0 149 FALSE David Fincher                24   \n",
      "210769 0        Family|Comedy|Mystery|Animation NaN                           Hanna-Barbera Productions                          US              United States of America 0.0         42  FALSE Jomac Noph                    2   \n",
      "210860 60000000 Comedy|Adventure                http://mortdecaithemovie.com/ Lionsgate|Mad Chance|Infinitum Nihil|OddLot Ent... US|US|US|US|CN  United States of America 30418560.0  106 FALSE David Koepp                   3   \n",
      "210908 0        Horror|Thriller|Comedy          NaN                           Modernciné                                         NaN             United States of America 0.0         89  FALSE Chris Sivertson|Lucky McKee   8   \n",
      "211067 4000000  Horror|Thriller                 NaN                           Worldview Entertainment|Arcade Pictures            NaN             United States of America 9221.0      99  FALSE Ti West                       7   \n",
      "\n",
      "                                                                                                                                                                                                                              7  \n",
      "210577 61000000 Mystery|Thriller|Drama          http://www.gonegirlmovie.com/ Regency Enterprises|New Regency Pictures|Pacifi... US|US||US|US|US United States of America 369330363.0 149 FALSE David Fincher                22  \n",
      "210769 0        Family|Comedy|Mystery|Animation NaN                           Hanna-Barbera Productions                          US              United States of America 0.0         42  FALSE Jomac Noph                    5  \n",
      "210860 60000000 Comedy|Adventure                http://mortdecaithemovie.com/ Lionsgate|Mad Chance|Infinitum Nihil|OddLot Ent... US|US|US|US|CN  United States of America 30418560.0  106 FALSE David Koepp                  14  \n",
      "210908 0        Horror|Thriller|Comedy          NaN                           Modernciné                                         NaN             United States of America 0.0         89  FALSE Chris Sivertson|Lucky McKee   4  \n",
      "211067 4000000  Horror|Thriller                 NaN                           Worldview Entertainment|Arcade Pictures            NaN             United States of America 9221.0      99  FALSE Ti West                       7  \n"
     ]
    }
   ],
   "source": [
    "import pandas as pd\n",
    "import chardet\n",
    "\n",
    "file_path = \"movies.csv\"\n",
    "\n",
    "# Paso 1: Detectar la codificación\n",
    "with open(file_path, \"rb\") as f:\n",
    "    result = chardet.detect(f.read(100000))\n",
    "    encoding_detected = result[\"encoding\"]\n",
    "\n",
    "print(f\"Codificación detectada: {encoding_detected}\")\n",
    "\n",
    "# Paso 2: Intentar cargar el archivo con diferentes estrategias\n",
    "try:\n",
    "    df = pd.read_csv(file_path, encoding=encoding_detected, on_bad_lines=\"skip\")\n",
    "    print(\"Archivo cargado exitosamente con la codificación detectada.\")\n",
    "except Exception as e:\n",
    "    print(f\"Error con la codificación detectada ({encoding_detected}): {e}\")\n",
    "\n",
    "    # Alternativas de codificación\n",
    "    encodings = [\"utf-8\", \"ISO-8859-1\", \"latin1\", \"windows-1252\"]\n",
    "    for enc in encodings:\n",
    "        try:\n",
    "            df = pd.read_csv(file_path, encoding=enc, on_bad_lines=\"skip\")\n",
    "            print(f\"Archivo cargado exitosamente con encoding: {enc}\")\n",
    "            break\n",
    "        except Exception as e:\n",
    "            print(f\"Error con encoding {enc}: {e}\")\n",
    "    else:\n",
    "        print(\"No se pudo leer el archivo con las codificaciones probadas.\")\n",
    "\n",
    "# Mostrar las primeras filas si se cargó correctamente\n",
    "if \"df\" in locals():\n",
    "    print(df.head())\n",
    "else:\n",
    "    print(\"No se pudo cargar el archivo.\")\n",
    "\n",
    "\n"
   ]
  },
  {
   "cell_type": "markdown",
   "metadata": {
    "id": "MfQlC7T--ukI"
   },
   "source": [
    "### 3.2. Estudie si es conveniente hacer un Análisis de Componentes Principales. Recuerde que puede usar el índice KMO y el test de esfericidad de Bartlett.\n",
    "\n",
    "El PCA es útil cuando se busca reducir la dimensionalidad sin perder una cantidad significativa de información. Para evaluar si es conveniente realizar PCA, se deben utilizar dos pruebas: el índice KMO (Kaiser-Meyer-Olkin) y el test de esfericidad de Bartlett.\n",
    "\n",
    "\n",
    "1.Prueba de Esfericidad de Bartlett:\n",
    "   - Se utiliza para verificar si las variables están correlacionadas lo suficiente como para realizar un análisis factorial (PCA).\n",
    "   - Hipótesis nula: La matriz de correlación es una matriz identidad (lo que indica que no hay correlación significativa).\n",
    "   - Si el valor p de la prueba es bajo (generalmente < 0.05), se puede proceder con PCA porque las variables están correlacionadas de manera significativa.\n",
    "\n",
    "2.Índice KMO (Kaiser-Meyer-Olkin):\n",
    "   - Mide la adecuación de la muestra para el análisis factorial.\n",
    "   - El valor KMO varía entre 0 y 1, siendo:\n",
    "        - Valor KMO cercano a 1 indica que los datos son adecuados para PCA.\n",
    "        - Valor KMO menor que 0.5 indica que no es recomendable realizar PCA.\n",
    "\n"
   ]
  },
  {
   "cell_type": "code",
   "execution_count": 27,
   "metadata": {
    "colab": {
     "base_uri": "https://localhost:8080/"
    },
    "id": "SYMEgKEC-ukJ",
    "outputId": "0dc6202a-b106-4bca-cb60-be0c87a33c95"
   },
   "outputs": [
    {
     "name": "stdout",
     "output_type": "stream",
     "text": [
      "Estadístico de Bartlett: -763.4469218608922\n",
      "Valor p de Bartlett: 1.0\n"
     ]
    }
   ],
   "source": [
    "import pandas as pd\n",
    "import numpy as np\n",
    "from scipy.stats import chi2\n",
    "\n",
    "# Supongamos que df es tu DataFrame original\n",
    "df_encoded = df.select_dtypes(include=[np.number])  # Asegurar solo variables numéricas\n",
    "\n",
    "def bartlett_test(df):\n",
    "    # Calcular la matriz de correlación\n",
    "    correlation_matrix = df.corr()\n",
    "    n = len(df)  # Número de observaciones\n",
    "    p = df.shape[1]  # Número de variables\n",
    "\n",
    "    # Calcular el estadístico de Bartlett\n",
    "    bartlett_stat = (n - 1 - (2 * p + 5) / 6) * np.log(np.linalg.det(correlation_matrix))\n",
    "\n",
    "    # Grados de libertad\n",
    "    df_bartlett = (p * (p - 1)) / 2\n",
    "    p_value = 1 - chi2.cdf(bartlett_stat, df_bartlett)\n",
    "\n",
    "    return bartlett_stat, p_value\n",
    "\n",
    "# Ejecutar la prueba de Bartlett\n",
    "bartlett_stat, p_value = bartlett_test(df_encoded)\n",
    "print(f'Estadístico de Bartlett: {bartlett_stat}')\n",
    "print(f'Valor p de Bartlett: {p_value}')\n",
    "\n"
   ]
  },
  {
   "cell_type": "code",
   "execution_count": 29,
   "metadata": {
    "colab": {
     "base_uri": "https://localhost:8080/"
    },
    "id": "JTHnHhne-ukJ",
    "outputId": "3fe8493b-9d5c-4dca-c9a6-3ee14af3a88b"
   },
   "outputs": [
    {
     "name": "stdout",
     "output_type": "stream",
     "text": [
      "Índice KMO: 0.5864729678583378\n"
     ]
    }
   ],
   "source": [
    "import pandas as pd\n",
    "import numpy as np\n",
    "from factor_analyzer import calculate_kmo\n",
    "\n",
    "# Asegurar que df_encoded contiene solo variables numéricas\n",
    "df_encoded = df.select_dtypes(include=[np.number]).dropna()\n",
    "\n",
    "# Calcular el índice KMO\n",
    "kmo_all, kmo_model = calculate_kmo(df_encoded)\n",
    "print(f'Índice KMO: {kmo_model}')\n"
   ]
  },
  {
   "cell_type": "markdown",
   "metadata": {
    "id": "axwVyiUg-ukJ"
   },
   "source": [
    "### 3.3. Haga un análisis de componentes principales con las variables numéricas, discuta los resultados e interprete los componentes.\n",
    "\n",
    "Una vez que se determina que es conveniente realizar PCA (basado en las pruebas anteriores), se procede con el análisis de los componentes principales utilizando solo las variables numéricas.\n",
    "\n",
    "\n",
    "1.Pasos para realizar PCA:\n",
    "   - Normalización de los datos: Si las variables numéricas tienen escalas diferentes, es necesario normalizarlas (por ejemplo, utilizando estandarización, para que tengan media 0 y desviación estándar 1).\n",
    "   - Cálculo de la matriz de covarianza o correlación de las variables numéricas.\n",
    "   - Extracción de los componentes principales: Usamos un algoritmo de descomposición, como la descomposición en valores singulares (SVD), para obtener los componentes principales.\n",
    "   - Evaluación de la varianza explicada por cada componente principal:\n",
    "      - Los componentes principales explican la mayor parte de la variabilidad de los datos. Se seleccionan los primeros componentes con la mayor varianza acumulada.\n",
    "      - Criterio común: Seleccionar suficientes componentes para explicar entre el 70% y el 90% de la varianza acumulada.\n",
    "\n",
    "2.Discusión de los Resultados:\n",
    "   - Componentes principales: Los componentes principales que expliquen la mayor parte de la variabilidad de los datos serán los más relevantes.\n",
    "   - Interpretación de los componentes:\n",
    "      - Carga de las variables: Cada componente tendrá una serie de coeficientes (cargas) que indican la contribución de cada variable en ese componente.\n",
    "      - Componente dominante: El primer componente generalmente será el más importante, y será una combinación lineal de las variables que más contribuyen a la variabilidad.\n",
    "   - Ejemplo de interpretación:\n",
    "      - Si el primer componente principal tiene una alta carga para las variables A, B y C, esto sugiere que estas variables están correlacionadas y explican gran parte de la variabilidad en los datos.\n",
    "      - El segundo componente puede capturar una variabilidad ortogonal a la del primero, y tendrá una carga alta en otras variables que no se correlacionan con las del primer componente.\n"
   ]
  },
  {
   "cell_type": "code",
   "execution_count": 31,
   "metadata": {
    "colab": {
     "base_uri": "https://localhost:8080/",
     "height": 784
    },
    "id": "6B_Yw5sk-ukK",
    "outputId": "1f1c0f25-e493-486f-b092-4939cc0380af"
   },
   "outputs": [
    {
     "name": "stdout",
     "output_type": "stream",
     "text": [
      "Varianza explicada por cada componente: [0.20157802 0.15468581 0.14058329 0.13839348 0.13009807 0.12208566\n",
      " 0.11257568]\n"
     ]
    },
    {
     "data": {
      "image/png": "[encoded data removed]",
      "text/plain": [
       "<Figure size 640x480 with 1 Axes>"
      ]
     },
     "metadata": {},
     "output_type": "display_data"
    },
    {
     "name": "stdout",
     "output_type": "stream",
     "text": [
      "Número de componentes seleccionados: 6\n",
      "Coeficientes principales (cargas):\n",
      "[[ 0.33090516  0.47909721  0.56157958  0.4601139   0.32030089 -0.13221938\n",
      "  -0.11754397]\n",
      " [ 0.2075987   0.07678951 -0.02256641  0.20702567 -0.53089969 -0.44509356\n",
      "   0.65396829]\n",
      " [ 0.61447748  0.20316511 -0.00177393 -0.21206033 -0.409668    0.60232371\n",
      "  -0.07447759]\n",
      " [-0.32133227  0.09277895 -0.01526032  0.33720999  0.20771779  0.62819585\n",
      "   0.58001506]\n",
      " [-0.55898029  0.68178002  0.03194494 -0.11364086 -0.41030742 -0.00354965\n",
      "  -0.20104114]\n",
      " [ 0.0229755  -0.09227264 -0.47737787  0.74037054 -0.23320732  0.05932976\n",
      "  -0.39624998]\n",
      " [-0.23147507 -0.49127081  0.67451686  0.1602892  -0.42642757  0.15314458\n",
      "  -0.1382495 ]]\n"
     ]
    }
   ],
   "source": [
    "import pandas as pd\n",
    "import numpy as np\n",
    "import matplotlib.pyplot as plt\n",
    "from sklearn.decomposition import PCA\n",
    "from sklearn.preprocessing import StandardScaler\n",
    "\n",
    "# Supongamos que df es el DataFrame original\n",
    "df_encoded = df.select_dtypes(include=[np.number]).dropna()  # Asegurar solo valores numéricos y sin NaN\n",
    "\n",
    "# Estandarizar los datos (media = 0, varianza = 1)\n",
    "scaler = StandardScaler()\n",
    "df_scaled = scaler.fit_transform(df_encoded)\n",
    "\n",
    "# Realizar PCA\n",
    "pca = PCA()\n",
    "pca.fit(df_scaled)\n",
    "\n",
    "# Varianza explicada por cada componente\n",
    "explained_variance = pca.explained_variance_ratio_\n",
    "\n",
    "# Mostrar la varianza explicada\n",
    "print(f'Varianza explicada por cada componente: {explained_variance}')\n",
    "\n",
    "# Gráfico de varianza explicada\n",
    "plt.plot(range(1, len(explained_variance) + 1), explained_variance, marker='o')\n",
    "plt.title('Varianza explicada por cada componente principal')\n",
    "plt.xlabel('Número de componente')\n",
    "plt.ylabel('Varianza explicada')\n",
    "plt.show()\n",
    "\n",
    "# Selección de componentes: acumulado ≥ 80% de varianza\n",
    "cumulative_variance = np.cumsum(explained_variance)\n",
    "num_components = np.argmax(cumulative_variance >= 0.80) + 1\n",
    "print(f'Número de componentes seleccionados: {num_components}')\n",
    "\n",
    "# Obtener los componentes principales\n",
    "principal_components = pca.components_\n",
    "\n",
    "# Mostrar los coeficientes principales\n",
    "print('Coeficientes principales (cargas):')\n",
    "print(principal_components)\n",
    "\n"
   ]
  },
  {
   "cell_type": "markdown",
   "metadata": {},
   "source": [
    "## Conclusiones sobre el Análisis de Componentes Principales (PCA)\n",
    "1. Adecuación del PCA:\n",
    "La prueba de esfericidad de Bartlett sugiere que las variables están correlacionadas, lo que indica que el PCA es una técnica adecuada, falta evaluar el índice KMO para confirmar si la muestra es lo suficientemente adecuada para PCA.\n",
    "\n",
    "2. Cantidad de Componentes Principales:\n",
    "Se seleccionó un número de componentes basado en la varianza acumulada (≥80%).\n",
    "Esto garantiza que la mayoría de la información en los datos originales se conserve con un menor número de dimensiones.\n",
    "\n",
    "3. Explicación de la Variabilidad:\n",
    "Los primeros componentes principales explican la mayor parte de la variabilidad de los datos, si los primeros 2 o 3 componentes explican una alta proporción de la varianza, se puede reducir la dimensionalidad con una mínima pérdida de información.\n",
    "\n",
    "4. Interpretación de los Componentes:\n",
    "Cada componente es una combinación lineal de las variables originales.\n",
    "Las variables con mayores cargas en el primer componente representan la dirección de máxima variabilidad en los datos, si el segundo componente tiene una alta carga en otras variables, indica que captura una dimensión ortogonal al primer componente.\n",
    "\n",
    "5. Impacto del PCA:\n",
    "Permite reducir la dimensionalidad del conjunto de datos, facilitando el análisis y la visualización, ayuda a identificar patrones en los datos, eliminando redundancia y enfocándose en la información más relevante, si útil para modelos de Machine Learning, ya que puede mejorar el rendimiento eliminando características irrelevantes o redundantes."
   ]
  }
 ],
 "metadata": {
  "colab": {
   "provenance": []
  },
  "kernelspec": {
   "display_name": "Python 3",
   "language": "python",
   "name": "python3"
  },
  "language_info": {
   "codemirror_mode": {
    "name": "ipython",
    "version": 3
   },
   "file_extension": ".py",
   "mimetype": "text/x-python",
   "name": "python",
   "nbconvert_exporter": "python",
   "pygments_lexer": "ipython3",
   "version": "3.13.0"
  }
 },
 "nbformat": 4,
 "nbformat_minor": 4
}
