{
 "cells": [
  {
   "cell_type": "markdown",
   "metadata": {},
   "source": [
    "## 1. Análisis de componentes Principales\n",
    "\n",
    "### 3.1. Estudie si es posible hacer transformaciones en las variables categóricas para incluirlas en el PCA, ¿valdrá la pena?\n",
    "\n",
    "Transformaciones comunes para variables categóricas:\n",
    "1.Codificación One-Hot (dummies):\n",
    "   - Convierte cada categoría de una variable en una columna separada con valores binarios (0 o 1).\n",
    "   - Ejemplo: Si tienes una variable \"Color\" con categorías \"Rojo\", \"Verde\" y \"Azul\", se crearán tres columnas: Color_Rojo, Color_Verde, Color_Azul.\n",
    "   - Esto puede aumentar significativamente el número de características, lo cual podría dificultar la interpretación si el número de categorías es muy grande.\n",
    "\n",
    "2.Codificación de etiquetas (Label Encoding):\n",
    "   - Asigna un número único a cada categoría.\n",
    "   - Ejemplo: Si \"Rojo\" = 1, \"Verde\" = 2, \"Azul\" = 3, la variable se convierte en una variable numérica.\n",
    "   - Aunque esta es una opción más compacta, puede implicar que el modelo pueda interpretar las categorías como ordinales, \n",
    "     lo cual no es apropiado si no hay un orden natural entre las categorías.\n",
    "3.Codificación Binaria:\n",
    "   - Convierte las categorías a su representación binaria, lo cual puede ser útil si el número de categorías es grande y se desea mantener la información en un espacio más compacto.\n",
    "\n",
    "¿Vale la pena hacer estas transformaciones?\n",
    "   - Si las variables categóricas tienen un impacto significativo en la variabilidad de los datos, transformarlas puede proporcionar una representación más rica y útil para el PCA."
   ]
  },
  {
   "cell_type": "code",
   "execution_count": null,
   "metadata": {},
   "outputs": [],
   "source": [
    "import pandas as pd\n",
    "\n",
    "# Cargar tus datos\n",
    "df = pd.read_csv('tus_datos.csv')\n",
    "\n",
    "# Codificación One-Hot\n",
    "df_encoded = pd.get_dummies(df, drop_first=True)  # Elimina una categoría para evitar multicolinealidad\n",
    "\n",
    "# Mostrar las primeras filas después de la codificación\n",
    "print(df_encoded.head())\n"
   ]
  }
 ],
 "metadata": {
  "language_info": {
   "name": "python"
  }
 },
 "nbformat": 4,
 "nbformat_minor": 2
}
